{
  "metadata": {
    "kernelspec": {
      "name": "python",
      "display_name": "Python (Pyodide)",
      "language": "python"
    },
    "language_info": {
      "codemirror_mode": {
        "name": "python",
        "version": 3
      },
      "file_extension": ".py",
      "mimetype": "text/x-python",
      "name": "python",
      "nbconvert_exporter": "python",
      "pygments_lexer": "ipython3",
      "version": "3.8"
    }
  },
  "nbformat_minor": 4,
  "nbformat": 4,
  "cells": [
    {
      "cell_type": "code",
      "source": "print(\"hello world\")",
      "metadata": {
        "trusted": true
      },
      "outputs": [
        {
          "name": "stdout",
          "text": "hello world\n",
          "output_type": "stream"
        }
      ],
      "execution_count": 1
    },
    {
      "cell_type": "code",
      "source": "print(\"Bob\")\nprint(\"ST1001\")\nprint(\"bob@gmail.com\")\n",
      "metadata": {
        "trusted": true
      },
      "outputs": [
        {
          "name": "stdout",
          "text": "Bob\nST1001\nbob@gmail.com\n",
          "output_type": "stream"
        }
      ],
      "execution_count": 2
    },
    {
      "cell_type": "code",
      "source": "print(\"Bob\\nST1001\\nbob@gmail.com\")   # Print Statements with Escape Sequences\n",
      "metadata": {
        "trusted": true
      },
      "outputs": [
        {
          "name": "stdout",
          "text": "Bob\nST1001\nbob@gmail.com\n",
          "output_type": "stream"
        }
      ],
      "execution_count": 3
    },
    {
      "cell_type": "code",
      "source": "#Basic Arithmetic Operations",
      "metadata": {
        "trusted": true
      },
      "outputs": [],
      "execution_count": 4
    },
    {
      "cell_type": "code",
      "source": "a = 14\nb = 7\n\n# Addition\nprint(f\"{a} + {b} = {a + b}\")\n\n# Subtraction\nprint(f\"{a} - {b} = {a - b}\")\n\n# Multiplication\nprint(f\"{a} * {b} = {a * b}\")\n\n# Division\nprint(f\"{a} / {b} = {a / b}\")\n",
      "metadata": {
        "trusted": true
      },
      "outputs": [
        {
          "name": "stdout",
          "text": "14 + 7 = 21\n14 - 7 = 7\n14 * 7 = 98\n14 / 7 = 2.0\n",
          "output_type": "stream"
        }
      ],
      "execution_count": 5
    },
    {
      "cell_type": "code",
      "source": "# Print Numbers in Steps\nprint(\"1\")\nprint(\"2\")\nprint(\"3\")\nprint(\"4\")\nprint(\"5\")\n\n",
      "metadata": {
        "trusted": true
      },
      "outputs": [
        {
          "name": "stdout",
          "text": "1\n2\n3\n4\n5\n",
          "output_type": "stream"
        }
      ],
      "execution_count": 6
    },
    {
      "cell_type": "code",
      "source": "# Printing with Quotation Marks and Line Breaks\n\nprint(\"\\\"SDK\\\" stands for \\\"Software Development Kit\\\", whereas \\n\\\"IDE\\\" stands for \\\"Integrated Development Environment\\\".\")\n",
      "metadata": {
        "trusted": true
      },
      "outputs": [
        {
          "name": "stdout",
          "text": "\"SDK\" stands for \"Software Development Kit\", whereas \n\"IDE\" stands for \"Integrated Development Environment\".\n",
          "output_type": "stream"
        }
      ],
      "execution_count": 7
    },
    {
      "cell_type": "code",
      "source": "# Exploring Print Statements and Escape Sequences\n\nprint(\"python is an \\\"awesome\\\" language.\")  # Correct usage of escape sequences to include quotes.\nprint(\"python\\n\\t2023\")  # Correct usage of newline and tab.\nprint('I\\'m from Entri.\\b')  # Backspace does not visibly alter output here.\nprint(\"\\65\")  # Correct octal representation of '5'.\nprint(\"\\x65\")  # Correct hexadecimal representation of 'e'.\nprint(\"Entri\", \"2023\", sep=\"\\n\")  \nprint(\"Entri\", \"2023\", sep=\"\\b\")  \nprint(\"Entri\", \"2023\", sep=\"*\", end=\"\\b\\b\\b\\b\") \n\n",
      "metadata": {
        "trusted": true
      },
      "outputs": [
        {
          "name": "stdout",
          "text": "python is an \"awesome\" language.\npython\n\t2023\nI'm from Entri\n5\ne\nEntri\n2023\nEntr2023\nEntri*20",
          "output_type": "stream"
        }
      ],
      "execution_count": 10
    },
    {
      "cell_type": "code",
      "source": "# Variables and Type Conversion\n\nnum = 23\ntextnum = \"57\"\ndecimal = 98.3\n\n# Printing types\nprint(type(num))\nprint(type(textnum))\nprint(type(decimal))\n\n# Calculating sum after type conversion\nsum_of_vars = num + int(textnum) + decimal\nprint(\"Sum of variables:\", sum_of_vars)\n\n# Checking the datatype of the sum\nprint(\"Datatype of the sum:\", type(sum_of_vars))\n",
      "metadata": {
        "trusted": true
      },
      "outputs": [
        {
          "name": "stdout",
          "text": "<class 'int'>\n<class 'str'>\n<class 'float'>\nSum of variables: 178.3\nDatatype of the sum: <class 'float'>\n",
          "output_type": "stream"
        }
      ],
      "execution_count": 11
    },
    {
      "cell_type": "code",
      "source": "# Calculating Minutes in a Year\n# Variables to store units of time\ndays_in_year = 365\nhours_in_day = 24\nminutes_in_hour = 60\n\n# Calculating total minutes in a year\ntotal_minutes = days_in_year * hours_in_day * minutes_in_hour\n\n# Printing the result with a descriptive message\nprint(\"The total number of minutes in a year is:\", total_minutes)\n\n",
      "metadata": {
        "trusted": true
      },
      "outputs": [
        {
          "name": "stdout",
          "text": "The total number of minutes in a year is: 525600\n",
          "output_type": "stream"
        }
      ],
      "execution_count": 12
    },
    {
      "cell_type": "code",
      "source": "name = input(\"Please enter your name: \")\nprint(f\"Hi {name}, welcome to Python programming :)\")\n",
      "metadata": {
        "trusted": true
      },
      "outputs": [
        {
          "name": "stdout",
          "text": "Hi <PyodideFuture pending cb=[WebLoop._decrement_in_progress()]>, welcome to Python programming :)\n",
          "output_type": "stream"
        },
        {
          "output_type": "stream",
          "name": "stdin",
          "text": "Please enter your name:  kk\n"
        }
      ],
      "execution_count": 7
    }
  ]
}